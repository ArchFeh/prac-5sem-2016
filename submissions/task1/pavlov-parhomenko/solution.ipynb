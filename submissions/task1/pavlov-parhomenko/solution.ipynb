{
 "cells": [
  {
   "cell_type": "code",
   "execution_count": 11,
   "metadata": {
    "collapsed": false
   },
   "outputs": [],
   "source": [
    "import numpy as np\n",
    "import pandas as pd\n",
    "import time\n",
    "from scipy.optimize import linprog\n",
    "from scipy import misc\n",
    "import sys\n",
    "from unittest import *\n",
    "import os\n",
    "import numpy as np\n",
    "import unittest\n",
    "\n",
    "import matplotlib.pylab as plt\n",
    "%matplotlib inline"
   ]
  },
  {
   "cell_type": "markdown",
   "metadata": {},
   "source": [
    "## nash function impl"
   ]
  },
  {
   "cell_type": "code",
   "execution_count": 12,
   "metadata": {
    "collapsed": false
   },
   "outputs": [],
   "source": [
    "def nash_equilibrium_points(A, min_threshold):\n",
    "    nash = np.zeros((A.shape))\n",
    "    for i in range(A.shape[0]):\n",
    "        for idx in np.argwhere(A[i] == np.min(A[i])):\n",
    "            nash[i][idx] += 1\n",
    "            \n",
    "    for i in range(A.shape[1]):\n",
    "        for idx in np.argwhere(A[:, i] == np.max(A[:, i]))[0]:\n",
    "            nash[idx][i] += 1\n",
    "\n",
    "    points_vals = [[i, j] for i in range(nash.shape[0]) for j in range(nash.shape[1]) if nash[i][j] == 2]\n",
    "\n",
    "    if not len(points_vals):\n",
    "        print 'no points'\n",
    "        return None\n",
    "    else:\n",
    "        for point in points_vals:\n",
    "            print('value', A[point[0]][point[1]] - min_threshold, 'First strategy', point[0] + 1, \\\n",
    "               'Second strategy', point[1] + 1)\n",
    "        return points_vals\n",
    "    return 0"
   ]
  },
  {
   "cell_type": "code",
   "execution_count": 32,
   "metadata": {
    "collapsed": false
   },
   "outputs": [],
   "source": [
    "def nash_equilibrium(A):\n",
    "    print np.min(A)\n",
    "    min_threshold = np.abs(np.min(A)) + 1\n",
    "    A += min_threshold\n",
    "\n",
    "    points = nash_equilibrium_points(A, min_threshold)\n",
    "    if points and len(points) == 1:\n",
    "        first = np.zeros(A.shape[0])\n",
    "        second = np.zeros(A.shape[1])\n",
    "        first[points[0][0]] = 1\n",
    "        second[points[0][1]] = 1\n",
    "        return first, second, A[points[0][0]][points[0][1]] - min_threshold\n",
    "    print 'all finish'\n",
    "    \n",
    "    b, w = np.ones(A.shape[0]), -np.ones(A.shape[1])\n",
    "    res_first = linprog(w, A_ub = A, b_ub = b, options = {\"disp\": False})\n",
    "    b, w = -np.ones(A.shape[1]), np.ones(A.shape[0])\n",
    "    res_second = linprog(w, A_ub = -A.T, b_ub = b, options = {\"disp\": False})\n",
    "\n",
    "    game_value = np.sum(res_second.get(\"x\"))\n",
    "    \n",
    "    return res_first.get(\"x\") / game_value, res_second.get(\"x\") / game_value, (1 / game_value) - min_threshold\n"
   ]
  },
  {
   "cell_type": "markdown",
   "metadata": {},
   "source": [
    "## Draw function"
   ]
  },
  {
   "cell_type": "code",
   "execution_count": 33,
   "metadata": {
    "collapsed": false
   },
   "outputs": [],
   "source": [
    "def draw(p, q):\n",
    "    x1, x2 = np.arange(p.shape[0]), np.arange(q.shape[0])\n",
    "    for pair in zip([x1, x2], [p, q]):\n",
    "        plt.figure(figsize=(8,6), dpi = 80)\n",
    "        plt.ylabel('strategy selection probability')\n",
    "        plt.xlabel('strategy number')\n",
    "        plt.grid(True)\n",
    "        plt.scatter(pair[0], pair[1], color='blue')\n",
    "        map(lambda x, y: plt.plot([x, x], [0.0, y], color = 'blue'), pair[0], pair[1])\n",
    "        plt.show()"
   ]
  },
  {
   "cell_type": "markdown",
   "metadata": {},
   "source": [
    "## unit tests"
   ]
  },
  {
   "cell_type": "code",
   "execution_count": 47,
   "metadata": {
    "collapsed": false
   },
   "outputs": [],
   "source": [
    "class UnitTest(unittest.TestCase):\n",
    " \n",
    "    def runTest(self):\n",
    "        pass\n",
    " \n",
    "    def test_number1(self):\n",
    "        A = np.array([[8, 4, 7], [6, 5, 9], [7, 7, 8]])\n",
    "        p = np.array([0, 0, 1], dtype=np.float)\n",
    "        q = np.array([0, 1, 0], dtype=np.float)\n",
    "        val = 7\n",
    "        a, b, c = nash_equilibrium(A)\n",
    "        self.assertEqual(a.tolist(), p.tolist())\n",
    "        self.assertEqual(b.tolist(), q.tolist())\n",
    "        self.assertEqual(c, val)\n",
    " \n",
    "    def test_number2(self):\n",
    "        A = np.array([[-1, 1], [1, -1]])\n",
    "        p = np.array([0.5, 0.5])\n",
    "        q = np.array([0.5, 0.5])\n",
    "        val = 0\n",
    "        a, b, c = nash_equilibrium(A)\n",
    "        assert(np.sum(np.abs(a - p)) < 0.001 )\n",
    "        assert(np.sum(np.abs(b - q)) < 0.001 )\n",
    "        self.assertEqual(c, val)\n",
    "        \n",
    "    def test_number3(self):\n",
    "        A = np.array([[2, 5], [6, 4]])\n",
    "        q = np.array([0.4, 0.6])\n",
    "        p = np.array([0.2, 0.8])\n",
    "        val = 4.4\n",
    "        a, b, c = nash_equilibrium(A)\n",
    "        print c\n",
    "        assert(np.sum(np.abs(a - p)) < 0.001 )\n",
    "        assert(np.sum(np.abs(b - q)) < 0.001 )\n",
    "        assert(np.abs(val - c) < 0.001)\n",
    "        \n",
    "    def test_number4(self):\n",
    "        A = np.array([[-1, -2, 3.], [2, 4, 1]])\n",
    "        p = np.array([2/5., 0, 3./5])\n",
    "        q = np.array([1/5., 4./5])\n",
    "        val = 7 / 5.\n",
    "        a, b, c = nash_equilibrium(A)\n",
    "        assert(np.sum(np.abs(a - p)) < 0.001 )\n",
    "        assert(np.sum(np.abs(b - q)) < 0.001 )\n",
    "        assert(np.abs(val - c) < 0.001)\n",
    "    \n",
    "    def test_number5(self):\n",
    "        A = np.array([[0, 3, 4.], [2, 1, -3.]])\n",
    "        p = np.array([7/9., 0, 2/9.])\n",
    "        q = np.array([5./9., 4./9])\n",
    "        val = 8 / 9.\n",
    "        a, b, c = nash_equilibrium(A)\n",
    "        assert(np.sum(np.abs(a - p)) < 0.001 )\n",
    "        assert(np.sum(np.abs(b - q)) < 0.001 )\n",
    "        assert(np.abs(val - c) < 0.001)\n",
    "        "
   ]
  },
  {
   "cell_type": "code",
   "execution_count": 48,
   "metadata": {
    "collapsed": false
   },
   "outputs": [
    {
     "name": "stderr",
     "output_type": "stream",
     "text": [
      "....."
     ]
    },
    {
     "name": "stdout",
     "output_type": "stream",
     "text": [
      "4\n",
      "('value', 7, 'First strategy', 3, 'Second strategy', 2)\n",
      "-1\n",
      "no points\n",
      "all finish\n",
      "2\n",
      "no points\n",
      "all finish\n",
      "4.4\n",
      "-2.0\n",
      "no points\n",
      "all finish\n",
      "-3.0\n",
      "no points\n",
      "all finish\n"
     ]
    },
    {
     "name": "stderr",
     "output_type": "stream",
     "text": [
      "\n",
      "----------------------------------------------------------------------\n",
      "Ran 5 tests in 0.025s\n",
      "\n",
      "OK\n"
     ]
    },
    {
     "data": {
      "text/plain": [
       "<unittest.runner.TextTestResult run=5 errors=0 failures=0>"
      ]
     },
     "execution_count": 48,
     "metadata": {},
     "output_type": "execute_result"
    }
   ],
   "source": [
    "tests = UnitTest()\n",
    "suite = unittest.TestLoader().loadTestsFromModule(tests)\n",
    "unittest.TextTestRunner().run(suite)"
   ]
  },
  {
   "cell_type": "markdown",
   "metadata": {},
   "source": [
    "## Read matrix and execute function"
   ]
  },
  {
   "cell_type": "code",
   "execution_count": 49,
   "metadata": {
    "collapsed": false
   },
   "outputs": [
    {
     "name": "stdout",
     "output_type": "stream",
     "text": [
      "Matrix shapes are:\n",
      "x = 2 \n",
      "y = 3 \n",
      "\n",
      "13\n",
      "8\n",
      "36\n",
      "\n",
      "\n",
      "27\n",
      "35\n",
      "35\n",
      "\n",
      "\n",
      "8\n",
      "('value', 27, 'First strategy', 2, 'Second strategy', 1)\n",
      "First player strategy  [ 0.  1.]\n",
      "Second player strategy [ 1.  0.  0.]\n",
      "Game value is 27\n"
     ]
    },
    {
     "data": {
      "image/png": "[encoded data removed]",
      "text/plain": [
       "<matplotlib.figure.Figure at 0x7f7e0ab40790>"
      ]
     },
     "metadata": {},
     "output_type": "display_data"
    },
    {
     "data": {
      "image/png": "[encoded data removed]",
      "text/plain": [
       "<matplotlib.figure.Figure at 0x7f7e0acfedd0>"
      ]
     },
     "metadata": {},
     "output_type": "display_data"
    }
   ],
   "source": [
    "#Random input\n",
    "#'''\n",
    "x = 2\n",
    "y = 3\n",
    "A = np.random.randint(-15,41, (x,y))\n",
    "#'''\n",
    "#Keyboard input\n",
    "'''\n",
    "A = np.array([[-17, 0 , 1],\n",
    "          \t[1, 36, 10],\n",
    "          \t[0, 1, 2]]);\n",
    "'''\n",
    "#One point of Nash equilibrium\n",
    "'''\n",
    "A = np.array([[1, 2, 3, -4, 5, 6],\n",
    "          \t[5, -1, 2, -3, -2, 4],\n",
    "          \t[2, 1, 3, 1, 2, 1],\n",
    "          \t[-1, 2, 1, 1, 2, 4]])\n",
    "'''\n",
    "#Incomplete range of strategies\n",
    "'''\n",
    "A = np.array([[10, 8, 12],\n",
    "          \t[8, 10, 10],\n",
    "          \t[9, 9, 8]])  \n",
    "'''\n",
    "#Complete range of strategies\n",
    "'''\n",
    "A = np.array([[2, 0 , 1],\n",
    "          \t[1, 2, 0],\n",
    "          \t[0, 1, 2]]);\n",
    "'''\n",
    "x = A.shape[0]\n",
    "y = A.shape[1]\n",
    "print 'Matrix shapes are:\\nx =',x, '\\ny =', y,'\\n'\n",
    "for i in range(x):\n",
    "    for j in range(y):\n",
    "        print A[i][j]\n",
    "    print '\\n'\n",
    "\n",
    "p, q, v = nash_equilibrium(A)\n",
    "print 'First player strategy ', p\n",
    "print 'Second player strategy',q\n",
    "print 'Game value is', v\n",
    "draw(p, q)"
   ]
  }
 ],
 "metadata": {
  "kernelspec": {
   "display_name": "Python 2",
   "language": "python",
   "name": "python2"
  },
  "language_info": {
   "codemirror_mode": {
    "name": "ipython",
    "version": 2
   },
   "file_extension": ".py",
   "mimetype": "text/x-python",
   "name": "python",
   "nbconvert_exporter": "python",
   "pygments_lexer": "ipython2",
   "version": "2.7.6"
  }
 },
 "nbformat": 4,
 "nbformat_minor": 0
}
