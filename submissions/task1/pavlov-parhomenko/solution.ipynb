{
 "cells": [
  {
   "cell_type": "code",
<<<<<<< HEAD
<<<<<<< HEAD
   "execution_count": 11,
=======
   "execution_count": 377,
>>>>>>> add solution, readme file
=======
   "execution_count": 11,
>>>>>>> add nash_eq.py and README
   "metadata": {
    "collapsed": false
   },
   "outputs": [],
   "source": [
<<<<<<< HEAD
<<<<<<< HEAD
    "import numpy as np\n",
    "import pandas as pd\n",
    "import time\n",
    "from scipy.optimize import linprog\n",
    "from scipy import misc\n",
    "import sys\n",
    "from unittest import *\n",
    "import os\n",
    "import numpy as np\n",
    "import unittest\n",
=======
    "import sklearn as sk\n",
=======
>>>>>>> add nash_eq.py and README
    "import numpy as np\n",
    "import pandas as pd\n",
    "import time\n",
    "from scipy.optimize import linprog\n",
    "from scipy import misc\n",
    "import sys\n",
    "from unittest import *\n",
    "import os\n",
    "import numpy as np\n",
<<<<<<< HEAD
    "from sklearn.datasets import make_classification\n",
    "from math import copysign\n",
>>>>>>> add solution, readme file
=======
    "import unittest\n",
>>>>>>> add nash_eq.py and README
    "\n",
    "import matplotlib.pylab as plt\n",
    "%matplotlib inline"
   ]
  },
  {
   "cell_type": "markdown",
   "metadata": {},
   "source": [
    "## nash function impl"
   ]
  },
  {
   "cell_type": "code",
<<<<<<< HEAD
<<<<<<< HEAD
   "execution_count": 12,
=======
   "execution_count": 378,
>>>>>>> add solution, readme file
=======
   "execution_count": 12,
>>>>>>> add nash_eq.py and README
   "metadata": {
    "collapsed": false
   },
   "outputs": [],
   "source": [
    "def nash_equilibrium_points(A, min_threshold):\n",
    "    nash = np.zeros((A.shape))\n",
    "    for i in range(A.shape[0]):\n",
    "        for idx in np.argwhere(A[i] == np.min(A[i])):\n",
    "            nash[i][idx] += 1\n",
    "            \n",
    "    for i in range(A.shape[1]):\n",
    "        for idx in np.argwhere(A[:, i] == np.max(A[:, i]))[0]:\n",
    "            nash[idx][i] += 1\n",
    "\n",
    "    points_vals = [[i, j] for i in range(nash.shape[0]) for j in range(nash.shape[1]) if nash[i][j] == 2]\n",
    "\n",
    "    if not len(points_vals):\n",
    "        print 'no points'\n",
    "        return None\n",
    "    else:\n",
    "        for point in points_vals:\n",
    "            print('value', A[point[0]][point[1]] - min_threshold, 'First strategy', point[0] + 1, \\\n",
    "               'Second strategy', point[1] + 1)\n",
    "        return points_vals\n",
    "    return 0"
   ]
  },
  {
   "cell_type": "code",
<<<<<<< HEAD
<<<<<<< HEAD
   "execution_count": 32,
=======
   "execution_count": 379,
>>>>>>> add solution, readme file
=======
   "execution_count": 32,
>>>>>>> add nash_eq.py and README
   "metadata": {
    "collapsed": false
   },
   "outputs": [],
   "source": [
    "def nash_equilibrium(A):\n",
    "    print np.min(A)\n",
    "    min_threshold = np.abs(np.min(A)) + 1\n",
    "    A += min_threshold\n",
    "\n",
    "    points = nash_equilibrium_points(A, min_threshold)\n",
    "    if points and len(points) == 1:\n",
    "        first = np.zeros(A.shape[0])\n",
    "        second = np.zeros(A.shape[1])\n",
    "        first[points[0][0]] = 1\n",
    "        second[points[0][1]] = 1\n",
    "        return first, second, A[points[0][0]][points[0][1]] - min_threshold\n",
<<<<<<< HEAD
<<<<<<< HEAD
    "    print 'all finish'\n",
    "    \n",
    "    b, w = np.ones(A.shape[0]), -np.ones(A.shape[1])\n",
    "    res_first = linprog(w, A_ub = A, b_ub = b, options = {\"disp\": False})\n",
    "    b, w = -np.ones(A.shape[1]), np.ones(A.shape[0])\n",
=======
    "    b, w = np.ones(A.shape[0]), -np.ones(A.shape[0])\n",
    "    res_first = linprog(w, A_ub = A, b_ub = b, options = {\"disp\": False})\n",
    "    b, w = -np.ones(A.shape[1]), np.ones(A.shape[1])\n",
>>>>>>> add solution, readme file
=======
    "    print 'all finish'\n",
    "    \n",
    "    b, w = np.ones(A.shape[0]), -np.ones(A.shape[1])\n",
    "    res_first = linprog(w, A_ub = A, b_ub = b, options = {\"disp\": False})\n",
    "    b, w = -np.ones(A.shape[1]), np.ones(A.shape[0])\n",
>>>>>>> add nash_eq.py and README
    "    res_second = linprog(w, A_ub = -A.T, b_ub = b, options = {\"disp\": False})\n",
    "\n",
    "    game_value = np.sum(res_second.get(\"x\"))\n",
    "    \n",
    "    return res_first.get(\"x\") / game_value, res_second.get(\"x\") / game_value, (1 / game_value) - min_threshold\n"
   ]
  },
  {
   "cell_type": "markdown",
   "metadata": {},
   "source": [
    "## Draw function"
   ]
  },
  {
   "cell_type": "code",
<<<<<<< HEAD
<<<<<<< HEAD
   "execution_count": 33,
=======
   "execution_count": 420,
>>>>>>> add solution, readme file
=======
   "execution_count": 33,
>>>>>>> add nash_eq.py and README
   "metadata": {
    "collapsed": false
   },
   "outputs": [],
   "source": [
    "def draw(p, q):\n",
<<<<<<< HEAD
<<<<<<< HEAD
    "    x1, x2 = np.arange(p.shape[0]), np.arange(q.shape[0])\n",
=======
    "    x1, x2 = np.arange(p.shape[0]), np.arange(p.shape[0])\n",
>>>>>>> add solution, readme file
=======
    "    x1, x2 = np.arange(p.shape[0]), np.arange(q.shape[0])\n",
>>>>>>> add nash_eq.py and README
    "    for pair in zip([x1, x2], [p, q]):\n",
    "        plt.figure(figsize=(8,6), dpi = 80)\n",
    "        plt.ylabel('strategy selection probability')\n",
    "        plt.xlabel('strategy number')\n",
    "        plt.grid(True)\n",
    "        plt.scatter(pair[0], pair[1], color='blue')\n",
    "        map(lambda x, y: plt.plot([x, x], [0.0, y], color = 'blue'), pair[0], pair[1])\n",
    "        plt.show()"
   ]
  },
  {
   "cell_type": "markdown",
   "metadata": {},
   "source": [
    "## unit tests"
   ]
  },
  {
   "cell_type": "code",
<<<<<<< HEAD
<<<<<<< HEAD
   "execution_count": 47,
=======
   "execution_count": 421,
>>>>>>> add solution, readme file
=======
   "execution_count": 47,
>>>>>>> add nash_eq.py and README
   "metadata": {
    "collapsed": false
   },
   "outputs": [],
   "source": [
    "class UnitTest(unittest.TestCase):\n",
    " \n",
    "    def runTest(self):\n",
    "        pass\n",
    " \n",
    "    def test_number1(self):\n",
    "        A = np.array([[8, 4, 7], [6, 5, 9], [7, 7, 8]])\n",
    "        p = np.array([0, 0, 1], dtype=np.float)\n",
    "        q = np.array([0, 1, 0], dtype=np.float)\n",
    "        val = 7\n",
    "        a, b, c = nash_equilibrium(A)\n",
    "        self.assertEqual(a.tolist(), p.tolist())\n",
    "        self.assertEqual(b.tolist(), q.tolist())\n",
    "        self.assertEqual(c, val)\n",
    " \n",
    "    def test_number2(self):\n",
    "        A = np.array([[-1, 1], [1, -1]])\n",
    "        p = np.array([0.5, 0.5])\n",
    "        q = np.array([0.5, 0.5])\n",
    "        val = 0\n",
    "        a, b, c = nash_equilibrium(A)\n",
    "        assert(np.sum(np.abs(a - p)) < 0.001 )\n",
    "        assert(np.sum(np.abs(b - q)) < 0.001 )\n",
    "        self.assertEqual(c, val)\n",
    "        \n",
    "    def test_number3(self):\n",
    "        A = np.array([[2, 5], [6, 4]])\n",
    "        q = np.array([0.4, 0.6])\n",
    "        p = np.array([0.2, 0.8])\n",
    "        val = 4.4\n",
    "        a, b, c = nash_equilibrium(A)\n",
    "        print c\n",
    "        assert(np.sum(np.abs(a - p)) < 0.001 )\n",
    "        assert(np.sum(np.abs(b - q)) < 0.001 )\n",
    "        assert(np.abs(val - c) < 0.001)\n",
<<<<<<< HEAD
<<<<<<< HEAD
=======
>>>>>>> add nash_eq.py and README
    "        \n",
    "    def test_number4(self):\n",
    "        A = np.array([[-1, -2, 3.], [2, 4, 1]])\n",
    "        p = np.array([2/5., 0, 3./5])\n",
    "        q = np.array([1/5., 4./5])\n",
    "        val = 7 / 5.\n",
    "        a, b, c = nash_equilibrium(A)\n",
    "        assert(np.sum(np.abs(a - p)) < 0.001 )\n",
    "        assert(np.sum(np.abs(b - q)) < 0.001 )\n",
    "        assert(np.abs(val - c) < 0.001)\n",
    "    \n",
    "    def test_number5(self):\n",
    "        A = np.array([[0, 3, 4.], [2, 1, -3.]])\n",
    "        p = np.array([7/9., 0, 2/9.])\n",
    "        q = np.array([5./9., 4./9])\n",
    "        val = 8 / 9.\n",
    "        a, b, c = nash_equilibrium(A)\n",
    "        assert(np.sum(np.abs(a - p)) < 0.001 )\n",
    "        assert(np.sum(np.abs(b - q)) < 0.001 )\n",
    "        assert(np.abs(val - c) < 0.001)\n",
<<<<<<< HEAD
=======
>>>>>>> add solution, readme file
=======
>>>>>>> add nash_eq.py and README
    "        "
   ]
  },
  {
   "cell_type": "code",
<<<<<<< HEAD
<<<<<<< HEAD
   "execution_count": 48,
=======
   "execution_count": 422,
>>>>>>> add solution, readme file
=======
   "execution_count": 48,
>>>>>>> add nash_eq.py and README
   "metadata": {
    "collapsed": false
   },
   "outputs": [
    {
     "name": "stderr",
     "output_type": "stream",
     "text": [
<<<<<<< HEAD
<<<<<<< HEAD
      "....."
=======
      "..."
>>>>>>> add solution, readme file
=======
      "....."
>>>>>>> add nash_eq.py and README
     ]
    },
    {
     "name": "stdout",
     "output_type": "stream",
     "text": [
      "4\n",
      "('value', 7, 'First strategy', 3, 'Second strategy', 2)\n",
      "-1\n",
      "no points\n",
<<<<<<< HEAD
<<<<<<< HEAD
      "all finish\n",
      "2\n",
      "no points\n",
      "all finish\n",
      "4.4\n",
      "-2.0\n",
      "no points\n",
      "all finish\n",
      "-3.0\n",
      "no points\n",
      "all finish\n"
=======
      "2\n",
      "no points\n",
      "4.4\n"
>>>>>>> add solution, readme file
=======
      "all finish\n",
      "2\n",
      "no points\n",
      "all finish\n",
      "4.4\n",
      "-2.0\n",
      "no points\n",
      "all finish\n",
      "-3.0\n",
      "no points\n",
      "all finish\n"
>>>>>>> add nash_eq.py and README
     ]
    },
    {
     "name": "stderr",
     "output_type": "stream",
     "text": [
      "\n",
      "----------------------------------------------------------------------\n",
<<<<<<< HEAD
<<<<<<< HEAD
      "Ran 5 tests in 0.025s\n",
=======
      "Ran 3 tests in 0.016s\n",
>>>>>>> add solution, readme file
=======
      "Ran 5 tests in 0.025s\n",
>>>>>>> add nash_eq.py and README
      "\n",
      "OK\n"
     ]
    },
    {
     "data": {
      "text/plain": [
<<<<<<< HEAD
<<<<<<< HEAD
       "<unittest.runner.TextTestResult run=5 errors=0 failures=0>"
      ]
     },
     "execution_count": 48,
=======
       "<unittest.runner.TextTestResult run=3 errors=0 failures=0>"
      ]
     },
     "execution_count": 422,
>>>>>>> add solution, readme file
=======
       "<unittest.runner.TextTestResult run=5 errors=0 failures=0>"
      ]
     },
     "execution_count": 48,
>>>>>>> add nash_eq.py and README
     "metadata": {},
     "output_type": "execute_result"
    }
   ],
   "source": [
    "tests = UnitTest()\n",
    "suite = unittest.TestLoader().loadTestsFromModule(tests)\n",
    "unittest.TextTestRunner().run(suite)"
   ]
  },
  {
   "cell_type": "markdown",
   "metadata": {},
   "source": [
    "## Read matrix and execute function"
   ]
  },
  {
   "cell_type": "code",
<<<<<<< HEAD
<<<<<<< HEAD
   "execution_count": 49,
=======
   "execution_count": 423,
>>>>>>> add solution, readme file
=======
   "execution_count": 49,
>>>>>>> add nash_eq.py and README
   "metadata": {
    "collapsed": false
   },
   "outputs": [
    {
     "name": "stdout",
     "output_type": "stream",
     "text": [
<<<<<<< HEAD
<<<<<<< HEAD
=======
>>>>>>> add nash_eq.py and README
      "Matrix shapes are:\n",
      "x = 2 \n",
      "y = 3 \n",
      "\n",
      "13\n",
      "8\n",
      "36\n",
      "\n",
      "\n",
      "27\n",
      "35\n",
      "35\n",
      "\n",
      "\n",
      "8\n",
      "('value', 27, 'First strategy', 2, 'Second strategy', 1)\n",
      "First player strategy  [ 0.  1.]\n",
      "Second player strategy [ 1.  0.  0.]\n",
      "Game value is 27\n"
<<<<<<< HEAD
=======
      "write matrix shape\n",
      "2\n",
      "2\n",
      "3\n",
      "1\n",
      "3\n",
      "4\n",
      "1.0\n",
      "no points\n"
>>>>>>> add solution, readme file
=======
>>>>>>> add nash_eq.py and README
     ]
    },
    {
     "data": {
<<<<<<< HEAD
<<<<<<< HEAD
      "image/png": "iVBORw0KGgoAAAANSUhEUgAAAgAAAAF/CAYAAAA/5HFzAAAABHNCSVQICAgIfAhkiAAAAAlwSFlz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\nSRWyAZAkqUI2AJIkVcgGQJKkCv1/hKhUXEJJ/WgAAAAASUVORK5CYII=\n",
      "text/plain": [
       "<matplotlib.figure.Figure at 0x7f7e0ab40790>"
=======
      "image/png": "iVBORw0KGgoAAAANSUhEUgAAAgAAAAF/CAYAAAA/5HFzAAAABHNCSVQICAgIfAhkiAAAAAlwSFlz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\nCYAkSRVyAiBJUoWcAEiSVKH/D2PkVFwPxOvUAAAAAElFTkSuQmCC\n",
      "text/plain": [
       "<matplotlib.figure.Figure at 0x7f324a4400d0>"
>>>>>>> add solution, readme file
=======
      "image/png": "iVBORw0KGgoAAAANSUhEUgAAAgAAAAF/CAYAAAA/5HFzAAAABHNCSVQICAgIfAhkiAAAAAlwSFlz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\nSRWyAZAkqUI2AJIkVcgGQJKkCv1/hKhUXEJJ/WgAAAAASUVORK5CYII=\n",
      "text/plain": [
       "<matplotlib.figure.Figure at 0x7f7e0ab40790>"
>>>>>>> add nash_eq.py and README
      ]
     },
     "metadata": {},
     "output_type": "display_data"
    },
    {
     "data": {
<<<<<<< HEAD
<<<<<<< HEAD
      "image/png": "iVBORw0KGgoAAAANSUhEUgAAAgAAAAF/CAYAAAA/5HFzAAAABHNCSVQICAgIfAhkiAAAAAlwSFlz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\npA6yAJAkqYMsACRJ6qD/D81ujwiRVj3WAAAAAElFTkSuQmCC\n",
      "text/plain": [
       "<matplotlib.figure.Figure at 0x7f7e0acfedd0>"
=======
      "image/png": "iVBORw0KGgoAAAANSUhEUgAAAgAAAAF/CAYAAAA/5HFzAAAABHNCSVQICAgIfAhkiAAAAAlwSFlz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\nF6Zm/fLaCSMAAAAASUVORK5CYII=\n",
      "text/plain": [
       "<matplotlib.figure.Figure at 0x7f324a419350>"
>>>>>>> add solution, readme file
=======
      "image/png": "iVBORw0KGgoAAAANSUhEUgAAAgAAAAF/CAYAAAA/5HFzAAAABHNCSVQICAgIfAhkiAAAAAlwSFlz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\npA6yAJAkqYMsACRJ6qD/D81ujwiRVj3WAAAAAElFTkSuQmCC\n",
      "text/plain": [
       "<matplotlib.figure.Figure at 0x7f7e0acfedd0>"
>>>>>>> add nash_eq.py and README
      ]
     },
     "metadata": {},
     "output_type": "display_data"
    }
   ],
   "source": [
<<<<<<< HEAD
<<<<<<< HEAD
=======
>>>>>>> add nash_eq.py and README
    "#Random input\n",
    "#'''\n",
    "x = 2\n",
    "y = 3\n",
    "A = np.random.randint(-15,41, (x,y))\n",
    "#'''\n",
    "#Keyboard input\n",
    "'''\n",
    "A = np.array([[-17, 0 , 1],\n",
    "          \t[1, 36, 10],\n",
    "          \t[0, 1, 2]]);\n",
    "'''\n",
    "#One point of Nash equilibrium\n",
    "'''\n",
    "A = np.array([[1, 2, 3, -4, 5, 6],\n",
    "          \t[5, -1, 2, -3, -2, 4],\n",
    "          \t[2, 1, 3, 1, 2, 1],\n",
    "          \t[-1, 2, 1, 1, 2, 4]])\n",
    "'''\n",
    "#Incomplete range of strategies\n",
    "'''\n",
    "A = np.array([[10, 8, 12],\n",
    "          \t[8, 10, 10],\n",
    "          \t[9, 9, 8]])  \n",
    "'''\n",
    "#Complete range of strategies\n",
    "'''\n",
    "A = np.array([[2, 0 , 1],\n",
    "          \t[1, 2, 0],\n",
    "          \t[0, 1, 2]]);\n",
    "'''\n",
    "x = A.shape[0]\n",
    "y = A.shape[1]\n",
    "print 'Matrix shapes are:\\nx =',x, '\\ny =', y,'\\n'\n",
<<<<<<< HEAD
    "for i in range(x):\n",
    "    for j in range(y):\n",
    "        print A[i][j]\n",
    "    print '\\n'\n",
    "\n",
    "p, q, v = nash_equilibrium(A)\n",
    "print 'First player strategy ', p\n",
    "print 'Second player strategy',q\n",
    "print 'Game value is', v\n",
=======
    "print 'write matrix shape'\n",
    "x = int(input())\n",
    "y = int(input())\n",
    "A = np.zeros((x, y))\n",
=======
>>>>>>> add nash_eq.py and README
    "for i in range(x):\n",
    "    for j in range(y):\n",
    "        print A[i][j]\n",
    "    print '\\n'\n",
    "\n",
    "p, q, v = nash_equilibrium(A)\n",
<<<<<<< HEAD
>>>>>>> add solution, readme file
=======
    "print 'First player strategy ', p\n",
    "print 'Second player strategy',q\n",
    "print 'Game value is', v\n",
>>>>>>> add nash_eq.py and README
    "draw(p, q)"
   ]
  }
 ],
 "metadata": {
  "kernelspec": {
   "display_name": "Python 2",
   "language": "python",
   "name": "python2"
  },
  "language_info": {
   "codemirror_mode": {
    "name": "ipython",
    "version": 2
   },
   "file_extension": ".py",
   "mimetype": "text/x-python",
   "name": "python",
   "nbconvert_exporter": "python",
   "pygments_lexer": "ipython2",
   "version": "2.7.6"
  }
 },
 "nbformat": 4,
 "nbformat_minor": 0
}
