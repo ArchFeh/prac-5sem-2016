{
 "cells": [
  {
   "cell_type": "code",
   "execution_count": 73,
   "metadata": {
    "collapsed": false
   },
   "outputs": [],
   "source": [
    "import numpy as np\n",
    "from scipy.optimize import linprog\n",
    "from matplotlib import pyplot as plt\n",
    "%matplotlib inline"
   ]
  },
  {
   "cell_type": "code",
   "execution_count": 5,
   "metadata": {
    "collapsed": false
   },
   "outputs": [],
   "source": [
    "import numpy as np\n",
    "from scipy.optimize import linprog\n",
    "def nash_equilibrium(mat):  \n",
    "    rows, cols = np.shape(mat)    \n",
    "    tmat = np.array(mat).T\n",
    "    minmat = np.amin(tmat)\n",
    "    if (minmat < 0):\n",
    "        tmat -= minmat - 1\n",
    "    tmat *= -1\n",
    "    x = np.array([1] * cols)\n",
    "    y = np.array([-1] * rows)\n",
    "    e = linprog(x, tmat, y).x\n",
    "    z = np.dot(e, x)\n",
    "    p =e* (1 / z)\n",
    "    val = 1 / z\n",
    "    if (minmat < 0):\n",
    "        val += minmat- 1\n",
    "    tmat *= -1\n",
    "    w = linprog(y, mat, x).x\n",
    "    q =w* ( 1 / z)\n",
    "    return val, p, q"
   ]
  },
  {
   "cell_type": "code",
   "execution_count": 81,
   "metadata": {
    "collapsed": false
   },
   "outputs": [
    {
     "name": "stdout",
     "output_type": "stream",
     "text": [
      "Cпектр оптимальной стратегии неполон:\n"
     ]
    },
    {
     "data": {
      "image/png": "[encoded data removed]",
      "text/plain": [
       "<matplotlib.figure.Figure at 0x2ab82468f98>"
      ]
     },
     "metadata": {},
     "output_type": "display_data"
    },
    {
     "name": "stdout",
     "output_type": "stream",
     "text": [
      "p  [ 0.          0.12903226  0.09677419  0.43548387  0.33870968  0.        ]\n"
     ]
    },
    {
     "data": {
      "image/png": "[encoded data removed]",
      "text/plain": [
       "<matplotlib.figure.Figure at 0x2ab86442160>"
      ]
     },
     "metadata": {},
     "output_type": "display_data"
    },
    {
     "name": "stdout",
     "output_type": "stream",
     "text": [
      "q  [ 0.          0.          0.69086022  0.14516129  0.14784946  0.01612903]\n",
      "sol  4.87096774194\n"
     ]
    }
   ],
   "source": [
    "print('Cпектр оптимальной стратегии неполон:')\n",
    "my_matrix =[[4,0,6,2,2,1],\n",
    "            [3,8,4,10,4,4],\n",
    "            [1,2,6,5,0,0],\n",
    "            [6,6,4,4,10,3],\n",
    "            [10,4,6,4,0,9],\n",
    "            [10,7,0,7,9,8]]\n",
    "val,p,q=nash_equilibrium(my_matrix)\n",
    "x_axis = ['s1','s2','s3','s4','s5','s6']\n",
    "ind1 = np.arange(len(p))\n",
    "ind2 = np.arange(len(q))\n",
    "plt.bar(ind1,p,align='center')\n",
    "plt.xticks(ind1,x_axis)\n",
    "plt.title('p')\n",
    "plt.show()\n",
    "print('p ', p)\n",
    "plt.bar(ind2,q,align='center')\n",
    "plt.xticks(ind2,x_axis)\n",
    "plt.title('q')\n",
    "plt.show()\n",
    "print('q ', q)\n",
    "print('sol ', val)"
   ]
  },
  {
   "cell_type": "code",
   "execution_count": 82,
   "metadata": {
    "collapsed": false
   },
   "outputs": [
    {
     "name": "stdout",
     "output_type": "stream",
     "text": [
      "Cпектр оптимальной стратегии полон:\n"
     ]
    },
    {
     "data": {
      "image/png": "[encoded data removed]",
      "text/plain": [
       "<matplotlib.figure.Figure at 0x2ab850eac88>"
      ]
     },
     "metadata": {},
     "output_type": "display_data"
    },
    {
     "name": "stdout",
     "output_type": "stream",
     "text": [
      "p  [ 0.16666667  0.16666667  0.16666667  0.16666667  0.16666667  0.16666667]\n"
     ]
    },
    {
     "data": {
      "image/png": "[encoded data removed]",
      "text/plain": [
       "<matplotlib.figure.Figure at 0x2ab82471be0>"
      ]
     },
     "metadata": {},
     "output_type": "display_data"
    },
    {
     "name": "stdout",
     "output_type": "stream",
     "text": [
      "q  [ 0.16666667  0.16666667  0.16666667  0.16666667  0.16666667  0.16666667]\n",
      "sol  0.166666666667\n"
     ]
    }
   ],
   "source": [
    "print('Cпектр оптимальной стратегии полон:')\n",
    "my_matrix = [[1,0,0,0,0,0],\n",
    "             [0,1,0,0,0,0],\n",
    "             [0,0,1,0,0,0],\n",
    "             [0,0,0,1,0,0],\n",
    "             [0,0,0,0,1,0],\n",
    "             [0,0,0,0,0,1]] \n",
    "val,p,q=nash_equilibrium(my_matrix)\n",
    "\n",
    "\n",
    "\n",
    "x_axis = ['s1','s2','s3','s4','s5','s6']\n",
    "ind1 = np.arange(len(p))\n",
    "ind2 = np.arange(len(q))\n",
    "plt.bar(ind1,p,align='center')\n",
    "plt.xticks(ind1,x_axis)\n",
    "plt.title('p')\n",
    "plt.show()\n",
    "print('p ', p)\n",
    "plt.bar(ind2,q,align='center')\n",
    "plt.xticks(ind2,x_axis)\n",
    "plt.title('q')\n",
    "plt.show()\n",
    "print('q ', q)\n",
    "print('sol ', val)"
   ]
  },
  {
   "cell_type": "code",
   "execution_count": 83,
   "metadata": {
    "collapsed": false
   },
   "outputs": [
    {
     "name": "stdout",
     "output_type": "stream",
     "text": [
      "Спектр оптимальной стратегии состоит из одной точки:\n"
     ]
    },
    {
     "data": {
      "image/png": "[encoded data removed]",
      "text/plain": [
       "<matplotlib.figure.Figure at 0x2ab84d60ef0>"
      ]
     },
     "metadata": {},
     "output_type": "display_data"
    },
    {
     "name": "stdout",
     "output_type": "stream",
     "text": [
      "p  [ 0.  1.]\n"
     ]
    },
    {
     "data": {
      "image/png": "[encoded data removed]",
      "text/plain": [
       "<matplotlib.figure.Figure at 0x2ab84d52940>"
      ]
     },
     "metadata": {},
     "output_type": "display_data"
    },
    {
     "name": "stdout",
     "output_type": "stream",
     "text": [
      "q  [ 1.  0.]\n",
      "sol  1.0\n"
     ]
    }
   ],
   "source": [
    "print('Спектр оптимальной стратегии состоит из одной точки:')\n",
    "my_matrix = [[0,1],\n",
    "             [1,2]]; \n",
    "val,p,q=nash_equilibrium(my_matrix)\n",
    "x_axis = ['s1','s2']\n",
    "ind1 = np.arange(len(p))\n",
    "ind2 = np.arange(len(q))\n",
    "plt.bar(ind1,p,align='center')\n",
    "plt.xticks(ind1,x_axis)\n",
    "plt.title('p')\n",
    "plt.show()\n",
    "print('p ', p)\n",
    "plt.bar(ind2,q,align='center')\n",
    "plt.xticks(ind2,x_axis)\n",
    "plt.title('q')\n",
    "plt.show()\n",
    "print('q ', q)\n",
    "print('sol ', val)"
   ]
  },
  {
   "cell_type": "code",
   "execution_count": null,
   "metadata": {
    "collapsed": true
   },
   "outputs": [],
   "source": []
  }
 ],
 "metadata": {
  "anaconda-cloud": {},
  "kernelspec": {
   "display_name": "Python [conda root]",
   "language": "python",
   "name": "conda-root-py"
  },
  "language_info": {
   "codemirror_mode": {
    "name": "ipython",
    "version": 3
   },
   "file_extension": ".py",
   "mimetype": "text/x-python",
   "name": "python",
   "nbconvert_exporter": "python",
   "pygments_lexer": "ipython3",
   "version": "3.5.2"
  }
 },
 "nbformat": 4,
 "nbformat_minor": 1
}
