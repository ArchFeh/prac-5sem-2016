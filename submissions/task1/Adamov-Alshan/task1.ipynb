{
 "cells": [
  {
   "cell_type": "code",
   "execution_count": 390,
   "metadata": {
    "collapsed": false
   },
   "outputs": [],
   "source": [
    "import numpy as np\n",
    "from scipy.optimize import linprog\n",
    "from matplotlib import pyplot as plt\n",
    "%matplotlib inline"
   ]
  },
  {
   "cell_type": "code",
   "execution_count": 391,
   "metadata": {
    "collapsed": false
   },
   "outputs": [],
   "source": [
    "import math\n",
    "def nash_equilibrium(mat):  \n",
    "    tmat = np.array(mat).T\n",
    "    rows, cols = np.shape(tmat) \n",
    "    minmat = np.amin(tmat)\n",
    "    if (minmat < 0):\n",
    "        tmat -= minmat - 1\n",
    "    tmat *= -1\n",
    "    x = np.array([1] * cols)\n",
    "    y = np.array([-1] * rows)\n",
    "    e = linprog(x, tmat, y).x\n",
    "    z = np.dot(e, x)\n",
    "    sqrs  = np.array(tmat)\n",
    "    for i in range (rows):\n",
    "        for j in range (cols):\n",
    "            sqrs[i][j]=tmat[i][j]*tmat[i][j]\n",
    "    sums=np.sum(sqrs)\n",
    "    print(sums)\n",
    "    if sums==0 : \n",
    "        p=np.array([0] * cols) \n",
    "        q=np.array([0] * rows) \n",
    "        q[rows-1]=1.0 \n",
    "        p[cols-1]=1.0 \n",
    "        val = 0.0 \n",
    "        return val, p, q   \n",
    "    p =e* (1 / z)\n",
    "    val = 1 / z\n",
    "    if (minmat < 0):\n",
    "        val += minmat-1\n",
    "    tmat *= -1\n",
    "    w = linprog(y, mat, x).x\n",
    "    q =w* (1 / z)\n",
    "    return val, p, q"
   ]
  },
  {
   "cell_type": "code",
   "execution_count": 392,
   "metadata": {
    "collapsed": false
   },
   "outputs": [
    {
     "name": "stdout",
     "output_type": "stream",
     "text": [
      "Cпектр оптимальной стратегии неполон:\n",
      "810\n"
     ]
    },
    {
     "data": {
      "image/png": "[encoded data removed]",
      "text/plain": [
       "<matplotlib.figure.Figure at 0x2ab864c1278>"
      ]
     },
     "metadata": {},
     "output_type": "display_data"
    },
    {
     "name": "stdout",
     "output_type": "stream",
     "text": [
      "p  [ 0.          0.12903226  0.09677419  0.43548387  0.33870968]\n"
     ]
    },
    {
     "data": {
      "image/png": "[encoded data removed]",
      "text/plain": [
       "<matplotlib.figure.Figure at 0x2ab850e7828>"
      ]
     },
     "metadata": {},
     "output_type": "display_data"
    },
    {
     "name": "stdout",
     "output_type": "stream",
     "text": [
      "q  [ 0.          0.          0.69086022  0.14516129  0.14784946  0.01612903]\n",
      "sol  4.87096774194\n"
     ]
    }
   ],
   "source": [
    "print('Cпектр оптимальной стратегии неполон:')\n",
    "my_matrix =[[4,0,6,2,2,1],\n",
    "            [3,8,4,10,4,4],\n",
    "            [1,2,6,5,0,0],\n",
    "            [6,6,4,4,10,3],\n",
    "            [10,4,6,4,0,9]]\n",
    "val,p,q=nash_equilibrium(my_matrix)\n",
    "x_axis = ['s1','s2','s3','s4','s5','s6']\n",
    "ind1 = np.arange(len(p))\n",
    "ind2 = np.arange(len(q))\n",
    "plt.bar(ind1,p,align='center')\n",
    "plt.xticks(ind1,x_axis)\n",
    "plt.title('p')\n",
    "plt.show()\n",
    "print('p ', p)\n",
    "plt.bar(ind2,q,align='center')\n",
    "plt.xticks(ind2,x_axis)\n",
    "plt.title('q')\n",
    "plt.show()\n",
    "print('q ', q)\n",
    "print('sol ', val)"
   ]
  },
  {
   "cell_type": "code",
   "execution_count": 393,
   "metadata": {
    "collapsed": false
   },
   "outputs": [
    {
     "name": "stdout",
     "output_type": "stream",
     "text": [
      "Cпектр оптимальной стратегии полон:\n",
      "6\n"
     ]
    },
    {
     "data": {
      "image/png": "[encoded data removed]",
      "text/plain": [
       "<matplotlib.figure.Figure at 0x2ab824cbef0>"
      ]
     },
     "metadata": {},
     "output_type": "display_data"
    },
    {
     "name": "stdout",
     "output_type": "stream",
     "text": [
      "p  [ 0.16666667  0.16666667  0.16666667  0.16666667  0.16666667  0.16666667]\n"
     ]
    },
    {
     "data": {
      "image/png": "[encoded data removed]",
      "text/plain": [
       "<matplotlib.figure.Figure at 0x2ab84cf5ba8>"
      ]
     },
     "metadata": {},
     "output_type": "display_data"
    },
    {
     "name": "stdout",
     "output_type": "stream",
     "text": [
      "q  [ 0.16666667  0.16666667  0.16666667  0.16666667  0.16666667  0.16666667]\n",
      "sol  0.166666666667\n"
     ]
    }
   ],
   "source": [
    "print('Cпектр оптимальной стратегии полон:')\n",
    "my_matrix = [[1,0,0,0,0,0],\n",
    "             [0,1,0,0,0,0],\n",
    "             [0,0,1,0,0,0],\n",
    "             [0,0,0,1,0,0],\n",
    "             [0,0,0,0,1,0],\n",
    "             [0,0,0,0,0,1]] \n",
    "val,p,q=nash_equilibrium(my_matrix)\n",
    "\n",
    "\n",
    "\n",
    "x_axis = ['s1','s2','s3','s4','s5','s6']\n",
    "ind1 = np.arange(len(p))\n",
    "ind2 = np.arange(len(q))\n",
    "plt.bar(ind1,p,align='center')\n",
    "plt.xticks(ind1,x_axis)\n",
    "plt.title('p')\n",
    "plt.show()\n",
    "print('p ', p)\n",
    "plt.bar(ind2,q,align='center')\n",
    "plt.xticks(ind2,x_axis)\n",
    "plt.title('q')\n",
    "plt.show()\n",
    "print('q ', q)\n",
    "print('sol ', val)"
   ]
  },
  {
   "cell_type": "code",
   "execution_count": 394,
   "metadata": {
    "collapsed": false
   },
   "outputs": [
    {
     "name": "stdout",
     "output_type": "stream",
     "text": [
      "Спектр оптимальной стратегии состоит из одной точки:\n",
      "6\n"
     ]
    },
    {
     "data": {
      "image/png": "[encoded data removed]",
      "text/plain": [
       "<matplotlib.figure.Figure at 0x2ab864f7f60>"
      ]
     },
     "metadata": {},
     "output_type": "display_data"
    },
    {
     "name": "stdout",
     "output_type": "stream",
     "text": [
      "p  [ 0.  1.]\n"
     ]
    },
    {
     "data": {
      "image/png": "[encoded data removed]",
      "text/plain": [
       "<matplotlib.figure.Figure at 0x2ab8510a748>"
      ]
     },
     "metadata": {},
     "output_type": "display_data"
    },
    {
     "name": "stdout",
     "output_type": "stream",
     "text": [
      "q  [ 1.  0.]\n",
      "sol  1.0\n"
     ]
    }
   ],
   "source": [
    "print('Спектр оптимальной стратегии состоит из одной точки:')\n",
    "my_matrix = [[0,1],\n",
    "             [1,2]]; \n",
    "val,p,q=nash_equilibrium(my_matrix)\n",
    "x_axis = ['s1','s2']\n",
    "ind1 = np.arange(len(p))\n",
    "ind2 = np.arange(len(q))\n",
    "plt.bar(ind1,p,align='center')\n",
    "plt.xticks(ind1,x_axis)\n",
    "plt.title('p')\n",
    "plt.show()\n",
    "print('p ', p)\n",
    "plt.bar(ind2,q,align='center')\n",
    "plt.xticks(ind2,x_axis)\n",
    "plt.title('q')\n",
    "plt.show()\n",
    "print('q ', q)\n",
    "print('sol ', val)"
   ]
  },
  {
   "cell_type": "code",
   "execution_count": 395,
   "metadata": {
    "collapsed": false,
    "scrolled": false
   },
   "outputs": [
    {
     "name": "stdout",
     "output_type": "stream",
     "text": [
      "0\n"
     ]
    },
    {
     "data": {
      "image/png": "[encoded data removed]",
      "text/plain": [
       "<matplotlib.figure.Figure at 0x2ab86494ba8>"
      ]
     },
     "metadata": {},
     "output_type": "display_data"
    },
    {
     "name": "stdout",
     "output_type": "stream",
     "text": [
      "p  [0 1]\n"
     ]
    },
    {
     "data": {
      "image/png": "[encoded data removed]",
      "text/plain": [
       "<matplotlib.figure.Figure at 0x2ab86562780>"
      ]
     },
     "metadata": {},
     "output_type": "display_data"
    },
    {
     "name": "stdout",
     "output_type": "stream",
     "text": [
      "q  [0 1]\n",
      "sol  0.0\n"
     ]
    }
   ],
   "source": [
    "\n",
    "my_matrix = [[0,0],\n",
    "             [0,0]]; \n",
    "val,p,q=nash_equilibrium(my_matrix)\n",
    "x_axis = ['s1','s2']\n",
    "ind1 = np.arange(len(p))\n",
    "ind2 = np.arange(len(q))\n",
    "plt.bar(ind1,p,align='center')\n",
    "plt.xticks(ind1,x_axis)\n",
    "plt.title('p')\n",
    "plt.show()\n",
    "print('p ', p)\n",
    "plt.bar(ind2,q,align='center')\n",
    "plt.xticks(ind2,x_axis)\n",
    "plt.title('q')\n",
    "plt.show()\n",
    "print('q ', q)\n",
    "print('sol ', val)"
   ]
  },
  {
   "cell_type": "code",
   "execution_count": 397,
   "metadata": {
    "collapsed": false
   },
   "outputs": [
    {
     "name": "stdout",
     "output_type": "stream",
     "text": [
      "98\n"
     ]
    },
    {
     "data": {
      "image/png": "[encoded data removed]",
      "text/plain": [
       "<matplotlib.figure.Figure at 0x2ab864ff6d8>"
      ]
     },
     "metadata": {},
     "output_type": "display_data"
    },
    {
     "name": "stdout",
     "output_type": "stream",
     "text": [
      "p  [ 0.  1.  0.  0.]\n"
     ]
    },
    {
     "data": {
      "image/png": "[encoded data removed]",
      "text/plain": [
       "<matplotlib.figure.Figure at 0x2ab851e48d0>"
      ]
     },
     "metadata": {},
     "output_type": "display_data"
    },
    {
     "name": "stdout",
     "output_type": "stream",
     "text": [
      "q  [ 2.  0.  0.  0.  0.  0.]\n",
      "sol  0.0\n"
     ]
    }
   ],
   "source": [
    "my_matrix = [[1,0,0,0,0,0],\n",
    "             [0,0,0,0,0,0],\n",
    "             [0,0,0,0,0,0],\n",
    "             [0,0,0,0,0,-1]] \n",
    "val,p,q=nash_equilibrium(my_matrix)\n",
    "\n",
    "\n",
    "\n",
    "x_axis = ['s1','s2','s3','s4','s5','s6']\n",
    "ind1 = np.arange(len(p))\n",
    "ind2 = np.arange(len(q))\n",
    "plt.bar(ind1,p,align='center')\n",
    "plt.xticks(ind1,x_axis)\n",
    "plt.title('p')\n",
    "plt.show()\n",
    "print('p ', p)\n",
    "plt.bar(ind2,q,align='center')\n",
    "plt.xticks(ind2,x_axis)\n",
    "plt.title('q')\n",
    "plt.show()\n",
    "print('q ', q)\n",
    "print('sol ', val)"
   ]
  },
  {
   "cell_type": "code",
   "execution_count": null,
   "metadata": {
    "collapsed": true
   },
   "outputs": [],
   "source": []
  }
 ],
 "metadata": {
  "anaconda-cloud": {},
  "kernelspec": {
   "display_name": "Python [Root]",
   "language": "python",
   "name": "Python [Root]"
  },
  "language_info": {
   "codemirror_mode": {
    "name": "ipython",
    "version": 3
   },
   "file_extension": ".py",
   "mimetype": "text/x-python",
   "name": "python",
   "nbconvert_exporter": "python",
   "pygments_lexer": "ipython3",
   "version": "3.5.2"
  }
 },
 "nbformat": 4,
 "nbformat_minor": 1
}
