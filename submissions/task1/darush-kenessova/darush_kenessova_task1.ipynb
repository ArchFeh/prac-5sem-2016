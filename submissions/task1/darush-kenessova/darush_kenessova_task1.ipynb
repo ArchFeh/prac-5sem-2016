{
 "cells": [
  {
   "cell_type": "markdown",
   "metadata": {
    "collapsed": true
   },
   "source": [
    "# Решение антагонистической матричной игры"
   ]
  },
  {
   "cell_type": "code",
   "execution_count": 23,
   "metadata": {
    "collapsed": true
   },
   "outputs": [],
   "source": [
    "import numpy as np\n",
    "from scipy.optimize import linprog\n",
    "import matplotlib.pyplot as plt\n",
    "%matplotlib inline\n",
    "def nash_equilibrium(main_mas):\n",
    "    n=len(main_mas)\n",
    "    m=len(main_mas[1])\n",
    "    matr1 = -np.array(main_mas).T\n",
    "    c = [1]*n\n",
    "    b = [-1]*m\n",
    "    result = linprog(c, matr1, b, bounds= [(0, None)] * n)\n",
    "    v = 1/np.sum(result.x)\n",
    "    p = v * result.x\n",
    "    matr2 = np.array(main_mas)\n",
    "    c = [-1]*m\n",
    "    b = [1]*n\n",
    "    result2 = linprog(c, matr2, b, bounds=[(0, None)] * m)\n",
    "    q = v * result2.x\n",
    "    return v,p,q\n",
    "def read():\n",
    "    n=int(input('число строк: '))\n",
    "    main_mas = []\n",
    "    for j in range (n):\n",
    "        tmp=input().split()\n",
    "        for i in range (len(tmp)):\n",
    "            tmp[i]=int(tmp[i])\n",
    "        main_mas.append(tmp)\n",
    "    v,p,q=nash_equilibrium(main_mas) \n",
    "    print ('решение игры:', v)\n",
    "    print ('оптимальная стратегия 1 игрока', p)\n",
    "    print ('оптимальная стратегия 2 игрока', q)\n",
    "    return p,q"
   ]
  },
  {
   "cell_type": "code",
   "execution_count": 24,
   "metadata": {
    "collapsed": false
   },
   "outputs": [],
   "source": [
    "def draw(p,q):\n",
    "    plt.xlim([0, len(p)+1])\n",
    "    plt.ylim([0, np.max(p)+1])\n",
    "    for i in range(len(p)):\n",
    "        plt.scatter(i+1, p[i])\n",
    "        plt.scatter(i+1, 0)\n",
    "        plt.plot([i+1, i+1], [0, p[i]])\n",
    "    plt.show()\n",
    "\n",
    "    plt.xlim([0, len(q)+1])\n",
    "    plt.ylim([0, np.max(q)+1])    \n",
    "    for i in range(len(q)):\n",
    "        plt.scatter(i+1, q[i])\n",
    "        plt.scatter(i+1, 0)\n",
    "        plt.plot([i+1, i+1], [0, q[i]])\n",
    "    plt.show()"
   ]
  },
  {
   "cell_type": "markdown",
   "metadata": {
    "collapsed": false
   },
   "source": [
    "# 1. Cпектр оптимальной стратегии состоит из одной точки"
   ]
  },
  {
   "cell_type": "code",
   "execution_count": 25,
   "metadata": {
    "collapsed": false
   },
   "outputs": [
    {
     "name": "stdout",
     "output_type": "stream",
     "text": [
      "число строк: 2\n",
      "2 1 3\n",
      "10 7 5\n",
      "решение игры: 5.0\n",
      "оптимальная стратегия 1 игрока [ 0.  1.]\n",
      "оптимальная стратегия 2 игрока [ 0.  0.  1.]\n"
     ]
    }
   ],
   "source": [
    "p,q=read()"
   ]
  },
  {
   "cell_type": "code",
   "execution_count": 27,
   "metadata": {
    "collapsed": false
   },
   "outputs": [
    {
     "data": {
      "image/png": "[encoded data removed]",
      "text/plain": [
       "<matplotlib.figure.Figure at 0x86ab906470>"
      ]
     },
     "metadata": {},
     "output_type": "display_data"
    },
    {
     "data": {
      "image/png": "[encoded data removed]",
      "text/plain": [
       "<matplotlib.figure.Figure at 0x86a5c7b9e8>"
      ]
     },
     "metadata": {},
     "output_type": "display_data"
    }
   ],
   "source": [
    "draw(p,q)"
   ]
  },
  {
   "cell_type": "markdown",
   "metadata": {
    "collapsed": true
   },
   "source": [
    "# 2. Cпектр оптимальной стратегии неполон"
   ]
  },
  {
   "cell_type": "code",
   "execution_count": 29,
   "metadata": {
    "collapsed": false
   },
   "outputs": [
    {
     "name": "stdout",
     "output_type": "stream",
     "text": [
      "число строк: 4\n",
      "4 0 6\n",
      "3 8 4\n",
      "1 2 6\n",
      "6 6 4\n",
      "решение игры: 4.625\n",
      "оптимальная стратегия 1 игрока [ 0.3125  0.25    0.      0.4375]\n",
      "оптимальная стратегия 2 игрока [ 0.125   0.1875  0.6875]\n"
     ]
    }
   ],
   "source": [
    "p,q=read()"
   ]
  },
  {
   "cell_type": "code",
   "execution_count": 30,
   "metadata": {
    "collapsed": false
   },
   "outputs": [
    {
     "data": {
      "image/png": "[encoded data removed]",
      "text/plain": [
       "<matplotlib.figure.Figure at 0x86a9d3f320>"
      ]
     },
     "metadata": {},
     "output_type": "display_data"
    },
    {
     "data": {
      "image/png": "[encoded data removed]",
      "text/plain": [
       "<matplotlib.figure.Figure at 0x86a9cef668>"
      ]
     },
     "metadata": {},
     "output_type": "display_data"
    }
   ],
   "source": [
    "draw(p,q)"
   ]
  },
  {
   "cell_type": "markdown",
   "metadata": {},
   "source": [
    "# 3. Cпектр оптимальной стратегии полон"
   ]
  },
  {
   "cell_type": "code",
   "execution_count": 31,
   "metadata": {
    "collapsed": false
   },
   "outputs": [
    {
     "name": "stdout",
     "output_type": "stream",
     "text": [
      "число строк: 3\n",
      "3 1 5\n",
      "1 3 3\n",
      "3 3 1\n",
      "решение игры: 2.5\n",
      "оптимальная стратегия 1 игрока [ 0.25  0.25  0.5 ]\n",
      "оптимальная стратегия 2 игрока [ 0.25  0.5   0.25]\n"
     ]
    }
   ],
   "source": [
    "p,q=read()"
   ]
  },
  {
   "cell_type": "code",
   "execution_count": 32,
   "metadata": {
    "collapsed": false
   },
   "outputs": [
    {
     "data": {
      "image/png": "[encoded data removed]",
      "text/plain": [
       "<matplotlib.figure.Figure at 0x86ab90dc18>"
      ]
     },
     "metadata": {},
     "output_type": "display_data"
    },
    {
     "data": {
      "image/png": "[encoded data removed]",
      "text/plain": [
       "<matplotlib.figure.Figure at 0x86aa639f60>"
      ]
     },
     "metadata": {},
     "output_type": "display_data"
    }
   ],
   "source": [
    "draw(p,q)"
   ]
  },
  {
   "cell_type": "code",
   "execution_count": null,
   "metadata": {
    "collapsed": true
   },
   "outputs": [],
   "source": []
  }
 ],
 "metadata": {
  "kernelspec": {
   "display_name": "Python 3",
   "language": "python",
   "name": "python3"
  },
  "language_info": {
   "codemirror_mode": {
    "name": "ipython",
    "version": 3
   },
   "file_extension": ".py",
   "mimetype": "text/x-python",
   "name": "python",
   "nbconvert_exporter": "python",
   "pygments_lexer": "ipython3",
   "version": "3.5.1"
  }
 },
 "nbformat": 4,
 "nbformat_minor": 0
}
